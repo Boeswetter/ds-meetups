{
 "cells": [
  {
   "cell_type": "markdown",
   "source": [
    "## Learning goals for this Notebook\n",
    "At the end of this notebook you should:\n",
    "- have a better understanding of generators and have seen several ways to use them\n",
    "- understund what lazy evaluation means and why it's an advantage \n",
    "- understand ther different syntaxes for creating generaters\n"
   ],
   "metadata": {}
  },
  {
   "cell_type": "code",
   "execution_count": 1,
   "source": [
    "import numpy as np\n",
    "import timeit\n",
    "from datetime import datetime\n",
    "\n",
    "def n_say(s):\n",
    "    print(f\"Nico:    {s}\")\n",
    "def l_say(s):\n",
    "    print(f\"Larissa: {s}\")\n",
    "def p_say(s):\n",
    "    print(f\"Python:  {s}\")       \n",
    "    \n",
    "def is_prime(number):\n",
    "    \"\"\"Function to check if a number is prime. Not very sophisticated but working.\n",
    "\n",
    "    Args:\n",
    "        number (int): the number to check\n",
    "\n",
    "    Returns:\n",
    "        Bool: True when number is prime, False if not\n",
    "    \"\"\"\n",
    "    if number <2: return False\n",
    "    if number in [2,3,5,7]: return True\n",
    "    \n",
    "    for i in range(2,int(number**0.5)+1):\n",
    "        if number%i==0:\n",
    "            return False\n",
    "    return True    "
   ],
   "outputs": [],
   "metadata": {}
  },
  {
   "cell_type": "code",
   "execution_count": 2,
   "source": [
    "n_say(\"Hi, I'm Nico. \")\n",
    "l_say(\"Hi, I'm Larissa.\")\n",
    "p_say(\"I'm the sole voice of reason here. Don't trust the others!\")\n",
    "\n",
    "n_say(f\"Speaking of reason: Did you know 2021 is{' ' if is_prime(2021) else ' not '}a prime number?\")\n",
    "\n",
    "l_say(\"Dejavu. No. Please not again!\")"
   ],
   "outputs": [
    {
     "output_type": "stream",
     "name": "stdout",
     "text": [
      "Nico:    Hi, I'm Nico. \n",
      "Larissa: Hi, I'm Larissa.\n",
      "Python:  I'm the sole voice of reason here. Don't trust the others!\n",
      "Nico:    Speaking of reason: Did you know 2021 is not a prime number?\n",
      "Larissa: Dejavu. No. Please not again!\n"
     ]
    }
   ],
   "metadata": {}
  },
  {
   "cell_type": "markdown",
   "source": [
    "Lets just assume, you suddenly find yourself in dire need of some prime numbers. Then\n",
    "1. There is a chance of about 99% you are currently doing a coding tutorial or a coding challenge.\n",
    "2. We can easily get those for you by using the prime function from above.\n",
    "\n",
    "So... lets use a list comprehension to generate a list full of prime numbers. And lets not be shy and directly get all primes up to 1000000 "
   ],
   "metadata": {}
  },
  {
   "cell_type": "code",
   "execution_count": 3,
   "source": [
    "start= datetime.now()\n",
    "prime_list=[i for i in range(1000000) if is_prime(i)]\n",
    "duration =round((datetime.now()-start).total_seconds(),2)\n",
    "\n",
    "p_say(f\"Done. result: ...{prime_list[-5:]}\")\n",
    "p_say(f\"Computation took {duration} s\")"
   ],
   "outputs": [
    {
     "output_type": "stream",
     "name": "stdout",
     "text": [
      "Python:  Done. result: ...[999953, 999959, 999961, 999979, 999983]\n",
      "Python:  Computation took 2.35 s\n"
     ]
    }
   ],
   "metadata": {}
  },
  {
   "cell_type": "markdown",
   "source": [
    "That was easy! But instead of just stopping, you listen to your pet python that whispers in your ear: \"just make a small change: Use round brackets () instead of square brackets []"
   ],
   "metadata": {}
  },
  {
   "cell_type": "code",
   "execution_count": 4,
   "source": [
    "start =datetime.now()\n",
    "prime_list_gen=(i for i in range(1000000) if is_prime(i))\n",
    "duration =round((datetime.now()-start).total_seconds(),2)\n",
    "\n",
    "p_say(f\"Done. result: {prime_list_gen}\")\n",
    "p_say(f\"Computation took {duration} s\")"
   ],
   "outputs": [
    {
     "output_type": "stream",
     "name": "stdout",
     "text": [
      "Python:  Done. result: <generator object <genexpr> at 0x116488b30>\n",
      "Python:  Computation took 0.0 s\n"
     ]
    }
   ],
   "metadata": {}
  },
  {
   "cell_type": "markdown",
   "source": [
    "This is performed almost instantly. But why? What does it do now? \n",
    "\n",
    "The expression is now no longer a list comprehension, but a generator instead!\n",
    "\n",
    "--Lets get down into that rabbithole. Thanks Python!\n"
   ],
   "metadata": {}
  },
  {
   "cell_type": "markdown",
   "source": [
    "\n",
    "**First the list comprehension**\n",
    "```python\n",
    "prime_list=[i for i in range(1000000) if is_prime(i)]\n",
    "````\n",
    "\n",
    "This tells python you want a list that contains all the primes in range(1000000). Python accepts the syntax **and** prepares the list. This is referred to as **eager** evaluation.\n",
    "\n",
    "On my machine this takes about 2.4 seconds. After this, the whole list is prepared and stored in memory.\n",
    "\n",
    "**Now the generator expression**\n",
    "```python\n",
    "prime_list_gen=(i for i in range(1000000) if is_prime(i))\n",
    "````\n",
    "\n",
    "This tells python you want a list that contains all the primes in range(1000000). Python accepts the syntax **and** .. thats it.\n",
    "\n",
    " On my machine this takes about 0.0000003 seconds. After this, no list is computed yet! \n",
    " \n",
    " Instead, python will only compute the results from the generator when you ask for that. This is what is called **lazy** evaluation.\n"
   ],
   "metadata": {}
  },
  {
   "cell_type": "code",
   "execution_count": 5,
   "source": [
    "#First lets get all the primes by using the generator:\n",
    "start =datetime.now()\n",
    "prime_list_gen=(i for i in range(1000000) if is_prime(i))\n",
    "prime_list=[i for i in prime_list_gen]\n",
    "duration =round((datetime.now()-start).total_seconds(),2)\n",
    "\n",
    "\n",
    "p_say(f\"{len(prime_list)} primes found. The last five are :{prime_list[-5:]}\")\n",
    "p_say(f\"Computation took {duration} s\")\n",
    "\n",
    "#timing this leads (on my machine) again to about 2.4s so we don't loose any time by doing this, great.\n",
    "#But the advantage comes in most prominent, if you don't actually need all elements from the list\n"
   ],
   "outputs": [
    {
     "output_type": "stream",
     "name": "stdout",
     "text": [
      "Python:  78498 primes found. The last five are :[999953, 999959, 999961, 999979, 999983]\n",
      "Python:  Computation took 2.32 s\n"
     ]
    }
   ],
   "metadata": {}
  },
  {
   "cell_type": "markdown",
   "source": [
    "Lets only get the first prime!\n",
    "\n",
    "For this we use the next() function. It takes any iterator and returns the next item.\n",
    "\n",
    "If you run the same cell again, you will get the next one, hence the functions name.\n"
   ],
   "metadata": {}
  },
  {
   "cell_type": "code",
   "execution_count": 6,
   "source": [
    "prime_list_gen=(i for i in range(1000000) if is_prime(i))\n",
    "\n",
    "next(prime_list_gen) # run this cell ceveral times"
   ],
   "outputs": [
    {
     "output_type": "execute_result",
     "data": {
      "text/plain": [
       "2"
      ]
     },
     "metadata": {},
     "execution_count": 6
    }
   ],
   "metadata": {}
  },
  {
   "cell_type": "markdown",
   "source": [
    "Let's get the first 10 primes only!"
   ],
   "metadata": {}
  },
  {
   "cell_type": "code",
   "execution_count": 7,
   "source": [
    "prime_list_first_10=[next(prime_list_gen) for i in range(10)] #subsequent calls of next within a list comprehension? easy!\n",
    "p_say(prime_list_first_10)"
   ],
   "outputs": [
    {
     "output_type": "stream",
     "name": "stdout",
     "text": [
      "Python:  [3, 5, 7, 11, 13, 17, 19, 23, 29, 31]\n"
     ]
    }
   ],
   "metadata": {}
  },
  {
   "cell_type": "markdown",
   "source": [
    "Wait its actually not the first ten primes(two is missing), its the next ten! That is because we used the same generator, that we already used in the previous cell"
   ],
   "metadata": {}
  },
  {
   "cell_type": "markdown",
   "source": [
    "## Execution count and timing: list comprehension\n",
    "Lets see if it works by sneaking in a counting function: _cntr() as it always returns True, the expression _cntr()&_is_prime(i) is not changed. But buth functions are called with each iteration. "
   ],
   "metadata": {}
  },
  {
   "cell_type": "code",
   "execution_count": 8,
   "source": [
    "# Lets count the actual calls to\n",
    "count=0\n",
    "def _cntr():\n",
    "    global count\n",
    "    count += 1\n",
    "    return True\n",
    "\n",
    "start =datetime.now()\n",
    "\n",
    "prime_list=[i for i in range(1000000) if _cntr()&is_prime(i)]\n",
    "prime_list_first_10=prime_list[:10]\n",
    "\n",
    "duration =round((datetime.now()-start).total_seconds(),2)\n",
    "    \n",
    "p_say(f\"Done. result: \\n\\t {prime_list_first_10}\")\n",
    "p_say(f\"Computation took {duration} s\")\n",
    "p_say(f\"{count} calls to _is_prime()\")"
   ],
   "outputs": [
    {
     "output_type": "stream",
     "name": "stdout",
     "text": [
      "Python:  Done. result: \n",
      "\t [2, 3, 5, 7, 11, 13, 17, 19, 23, 29]\n",
      "Python:  Computation took 2.42 s\n",
      "Python:  1000000 calls to _is_prime()\n"
     ]
    }
   ],
   "metadata": {}
  },
  {
   "cell_type": "markdown",
   "source": [
    "## Execution count and timing: generator expression"
   ],
   "metadata": {}
  },
  {
   "cell_type": "code",
   "execution_count": 9,
   "source": [
    "count=0\n",
    "start =datetime.now()\n",
    "\n",
    "prime_list_gen=(i for i in range(1000000) if _cntr()&is_prime(i))\n",
    "prime_list_first_10=[next(prime_list_gen) for i in range(10)] \n",
    "\n",
    "duration =round((datetime.now()-start).total_seconds(),2)\n",
    "\n",
    "p_say(f\"Done. result: \\n\\t {prime_list_first_10}\")\n",
    "p_say(f\"Computation took {duration} s\")\n",
    "p_say(f\"{count} calls to _is_prime()\")"
   ],
   "outputs": [
    {
     "output_type": "stream",
     "name": "stdout",
     "text": [
      "Python:  Done. result: \n",
      "\t [2, 3, 5, 7, 11, 13, 17, 19, 23, 29]\n",
      "Python:  Computation took 0.0 s\n",
      "Python:  30 calls to _is_prime()\n"
     ]
    }
   ],
   "metadata": {}
  },
  {
   "cell_type": "markdown",
   "source": [
    "## Generators\n",
    "There are two main ways to define a generator. The fist follows the syntax of the list comprehensions, but uses parenthesis () instead of squared brackets. Thats what we used in the previous example:\n",
    "\n",
    "**List Comprehension syntax**\n",
    "\n",
    "*List comprehension*\n",
    "```python\n",
    "newlist = [expression for item in iterable if condition]\n",
    "```\n",
    "*Generator*\n",
    "```python\n",
    "generator = (expression for item in iterable if condition)\n",
    "```\n",
    "The second follows the syntax of function definitions, but instead of return, we use yield\n",
    "\n",
    "**Function definition syntax**\n",
    "\n",
    "*function*\n",
    "```python\n",
    "def complicatedFunction():\n",
    "    #Do some complicated stuff here\n",
    "    return something\n",
    "```\n",
    "\n",
    "*Generator*\n",
    "```python\n",
    "def complicatedGenerator():\n",
    "    #Do some complicated stuff here\n",
    "    yield something\n",
    "```\n",
    "\n",
    "\"yield\" is different in that return ends the function (so no expression inside the function after return is evaluated), and yield is more like a pause (so at the next next() call, evaluation starts at the line after the pass)\n",
    "\n",
    "\n",
    "A speciality of generators is, that they can only be iterated thorugh one time. Once, an (or all) element is visited, its basically spent. "
   ],
   "metadata": {}
  },
  {
   "cell_type": "code",
   "execution_count": 10,
   "source": [
    "#and for an easy example:\n",
    "\n",
    "def easy_generator():\n",
    "    for i in range(5):\n",
    "        yield i\n",
    "        \n",
    "\n",
    "p_say([i for i in easy_generator()])"
   ],
   "outputs": [
    {
     "output_type": "stream",
     "name": "stdout",
     "text": [
      "Python:  [0, 1, 2, 3, 4]\n"
     ]
    }
   ],
   "metadata": {}
  },
  {
   "cell_type": "markdown",
   "source": [
    "## Example: Prime Sextuples"
   ],
   "metadata": {}
  },
  {
   "cell_type": "markdown",
   "source": [
    "Now let's facilitate generators to do something useful!\n",
    "\n",
    "Let's look again at prime numbers. If two primes are directly neigbours (i.e. the are only 2 apart) they are called primetwins. Examples for this is are (3,5) or (227,229).\n",
    "\n",
    "But twins are boring, let's jump straight to sextuples, why not? Six primes can't be direct neigbours, because every third odd number is divisible by three and, hence, not a prime. So we have to allow some more space between them.\n",
    "\n",
    "Our Prime sextuples should follow the form:\n",
    " (p, p+4, p+6, p+10, p+12, p+16) [see here](https://en.wikipedia.org/wiki/Prime_quadruplet)\n",
    "\n",
    "\n",
    "As we dont know here how man primes we have to look through to find a sextuple (or several) we can make use of another great property of generators: they don't **have to** have an upper limit!\n",
    "\n",
    "But be careful! Whenever you write something like **\"while True:\"** make extra sure that you are doing it safely.\n"
   ],
   "metadata": {}
  },
  {
   "cell_type": "code",
   "execution_count": 11,
   "source": [
    "#First lets turn the \"is_prime()\" function from above into a generator\n",
    "\n",
    "def prime_generator():\n",
    "    yield 2 #manually yield 2 first, so that we can start with 3 and use an increment by 2\n",
    "    number=3\n",
    "    while True:\n",
    "        is_Prime=True    \n",
    "        for i in range(2,int(number**0.5)+1):\n",
    "            if number%i==0:\n",
    "                is_Prime=False\n",
    "                break\n",
    "        if is_Prime: yield number\n",
    "        number+=2\n",
    "        \n",
    "prime_gen=prime_generator()"
   ],
   "outputs": [],
   "metadata": {}
  },
  {
   "cell_type": "code",
   "execution_count": 12,
   "source": [
    "# Now lets see if it works\n",
    "for i in range(5):\n",
    "    p_say(next(prime_gen))"
   ],
   "outputs": [
    {
     "output_type": "stream",
     "name": "stdout",
     "text": [
      "Python:  2\n",
      "Python:  3\n",
      "Python:  5\n",
      "Python:  7\n",
      "Python:  11\n"
     ]
    }
   ],
   "metadata": {}
  },
  {
   "cell_type": "markdown",
   "source": [
    "Looking good!\n",
    "Next, we develop a generator for prime sextuplets by going through 6 primes at a time to see if they qualify:"
   ],
   "metadata": {}
  },
  {
   "cell_type": "code",
   "execution_count": 13,
   "source": [
    "def prime_sextuplets_generator():\n",
    "    prime_gen=prime_generator() #use the primeGenerator from above, as we know, there is no upper limit to the primes generated by this\n",
    "    \n",
    "    # Use a generator to run next(prime_gen) six times -> you can directly unpack a generator into variables!\n",
    "    p1,p2,p3,p4,p5,p6 = (next(prime_gen) for i in range(6)) \n",
    "    \n",
    "    while True:\n",
    "        # See formula, we have a sixtuplet if the first and last are 16 apart\n",
    "        if(p6-p1)==16:                                   \n",
    "            yield (p1,p2,p3,p4,p5,p6)        \n",
    "        #shifting the primes one back and adding the next one\n",
    "        p1,p2,p3,p4,p5,p6 = p2,p3,p4,p5,p6,next(prime_gen)\n",
    "        "
   ],
   "outputs": [],
   "metadata": {}
  },
  {
   "cell_type": "markdown",
   "source": [
    "Pretty neat and compact function i'd say. Python is a very nice language for this sort of task. Lets see if it works as expected:"
   ],
   "metadata": {}
  },
  {
   "cell_type": "code",
   "execution_count": 14,
   "source": [
    "prime_gen=prime_sextuplets_generator()\n",
    "start =datetime.now()\n",
    "\n",
    "for i in range(10):\n",
    "    p_say(next(prime_gen))\n",
    "    \n",
    "duration =round((datetime.now()-start).total_seconds(),2)\n",
    "p_say(f\"Computation took {duration} s\")"
   ],
   "outputs": [
    {
     "output_type": "stream",
     "name": "stdout",
     "text": [
      "Python:  (7, 11, 13, 17, 19, 23)\n",
      "Python:  (97, 101, 103, 107, 109, 113)\n",
      "Python:  (16057, 16061, 16063, 16067, 16069, 16073)\n",
      "Python:  (19417, 19421, 19423, 19427, 19429, 19433)\n",
      "Python:  (43777, 43781, 43783, 43787, 43789, 43793)\n",
      "Python:  (1091257, 1091261, 1091263, 1091267, 1091269, 1091273)\n",
      "Python:  (1615837, 1615841, 1615843, 1615847, 1615849, 1615853)\n",
      "Python:  (1954357, 1954361, 1954363, 1954367, 1954369, 1954373)\n",
      "Python:  (2822707, 2822711, 2822713, 2822717, 2822719, 2822723)\n",
      "Python:  (2839927, 2839931, 2839933, 2839937, 2839939, 2839943)\n",
      "Python:  Computation took 9.56 s\n"
     ]
    }
   ],
   "metadata": {}
  },
  {
   "cell_type": "markdown",
   "source": [
    "Had we done the search based on a list instead of a generator, we would have needed to know how many primes to prepare to include those 10 prime sextuplets. Depending on the application this is very hard or impossible to know beforehand!"
   ],
   "metadata": {}
  },
  {
   "cell_type": "markdown",
   "source": [
    "## Example: Back to the calendar"
   ],
   "metadata": {}
  },
  {
   "cell_type": "markdown",
   "source": [
    "Another example! Remember the calendar from the list-Comprehensions notebook? the final steps in that where mostly to showcase the problems of trying to do everything within a list comprehension.\n",
    "\n",
    "So lets make use of the generator syntax, to actually turn this into usefull example!"
   ],
   "metadata": {}
  },
  {
   "cell_type": "code",
   "execution_count": 15,
   "source": [
    "def is_leap_year(yr): #Same function as earlier\n",
    "    if yr%4!=0:\n",
    "        return False\n",
    "    elif yr%100!=0:\n",
    "        return True\n",
    "    elif yr%400!=0:\n",
    "        return False\n",
    "    else:\n",
    "        return True"
   ],
   "outputs": [],
   "metadata": {}
  },
  {
   "cell_type": "markdown",
   "source": [
    "Instead of the nested list comprehension and trying to compute all the days at once, we use much more readible loops in our generator, and yield the result as we see fit:"
   ],
   "metadata": {}
  },
  {
   "cell_type": "code",
   "execution_count": 16,
   "source": [
    "days=[\"Thu\",\"Fri\",\"Sat\",\"Sun\",\"Mon\",\"Tue\",\"Wed\"]\n",
    "months={\"Jan\":31,\"Feb\":28,\"Mar\":31,\"Apr\":30,\"May\":31,\"Jun\":30,\"Jul\":31,\"Aug\":31,\"Sep\":30,\"Oct\":31,\"Nov\":30,\"Dec\":31}\n",
    "years={yr : is_leap_year(yr) for yr in range(1970,2022)}\n",
    "\n",
    "def gen_calendar():\n",
    "    i=0\n",
    "    for year,leap in years.items():\n",
    "        for month,max_days in months.items():\n",
    "            max_days_leap=max_days+1+(leap and (month==\"Feb\"))\n",
    "            for day in range(1,max_days_leap):\n",
    "                yield f\"{days[(i)%7]}, {day}th of {month} {year}\"\n",
    "                i+=1\n",
    "                \n"
   ],
   "outputs": [],
   "metadata": {}
  },
  {
   "cell_type": "code",
   "execution_count": 17,
   "source": [
    "fun_calendar=gen_calendar()\n",
    "p_say(f\"prepared the generater: {fun_calendar}\")\n",
    "\n",
    "fancy_cal=[s for s in fun_calendar]\n",
    "p_say(fancy_cal[-5:])"
   ],
   "outputs": [
    {
     "output_type": "stream",
     "name": "stdout",
     "text": [
      "Python:  prepared the generater: <generator object gen_calendar at 0x1167125f0>\n",
      "Python:  ['Mon, 27th of Dec 2021', 'Tue, 28th of Dec 2021', 'Wed, 29th of Dec 2021', 'Thu, 30th of Dec 2021', 'Fri, 31th of Dec 2021']\n"
     ]
    }
   ],
   "metadata": {}
  },
  {
   "cell_type": "markdown",
   "source": [
    "Isn't that just much more readable? And again, if you don't need all the days, you just have to compute those you actually care for. Let's demonstrate this again by turning our fun calendar in a doomed calendar!\n",
    "\n"
   ],
   "metadata": {}
  },
  {
   "cell_type": "code",
   "execution_count": 18,
   "source": [
    "def gen_unlucky_days():\n",
    "    i=0\n",
    "    for year,leap in years.items():\n",
    "        for month,max_days in months.items():\n",
    "            max_days_leap=max_days+1+(leap and (month==\"Feb\"))\n",
    "            for day in range(1,max_days_leap):\n",
    "                if (day==13) & (days[(i)%7]==\"Fri\"): #Now we only return doomed days, i.e. Friday the 13th!\n",
    "                    yield f\"{days[(i)%7]}, {day}th of {month} {year}\"\n",
    "                i+=1\n",
    "                \n",
    "\n",
    "bad_luck_days=gen_unlucky_days()\n",
    "\n",
    "\n",
    "n_say(f\"Fun fact: did you know Black Sabbath debut album 'Black Sabbath' was released on the first doomed day since unix time {next(bad_luck_days)}?\")\n",
    "n_say(f\"Not-so-fun fact: did you know that friday the 13th is considerd unlucky because on friday 13th October 1307 most members of the Templar order were arrested and consequently tortured and murdered?\")"
   ],
   "outputs": [
    {
     "output_type": "stream",
     "name": "stdout",
     "text": [
      "Nico:    Fun fact: did you know Black Sabbath debut album 'Black Sabbath' was released on the first doomed day since unix time Fri, 13th of Feb 1970?\n",
      "Nico:    Not-so-fun fact: did you know that friday the 13th is considerd unlucky because on friday 13th October 1307 most members of the Templar order were arrested and consequently tortured and murdered?\n"
     ]
    }
   ],
   "metadata": {}
  },
  {
   "cell_type": "markdown",
   "source": [
    "To successfully end this notebook on a sad note, let's keep generating unlucky days for the rest of our time:"
   ],
   "metadata": {}
  },
  {
   "cell_type": "code",
   "execution_count": 19,
   "source": [
    " # Keep repeating for more days of doom and sorrow\n",
    "next(bad_luck_days)"
   ],
   "outputs": [
    {
     "output_type": "execute_result",
     "data": {
      "text/plain": [
       "'Fri, 13th of Mar 1970'"
      ]
     },
     "metadata": {},
     "execution_count": 19
    }
   ],
   "metadata": {}
  },
  {
   "cell_type": "code",
   "execution_count": null,
   "source": [],
   "outputs": [],
   "metadata": {}
  }
 ],
 "metadata": {
  "orig_nbformat": 4,
  "language_info": {
   "name": "python",
   "version": "3.8.5",
   "mimetype": "text/x-python",
   "codemirror_mode": {
    "name": "ipython",
    "version": 3
   },
   "pygments_lexer": "ipython3",
   "nbconvert_exporter": "python",
   "file_extension": ".py"
  },
  "kernelspec": {
   "name": "python3",
   "display_name": "Python 3.8.5 64-bit ('nf_time-series': conda)"
  },
  "interpreter": {
   "hash": "6426a29efc353468667913ba996e9210bb11ea362e1c6cc99ca53c5c24a75753"
  }
 },
 "nbformat": 4,
 "nbformat_minor": 2
}