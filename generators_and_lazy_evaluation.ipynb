{
 "cells": [
  {
   "cell_type": "markdown",
   "source": [
    "## Learning goals for this Notebook\n",
    "At the end of this notebook you should:\n",
    "- have a better understanding of generators and have seen several ways to use them\n",
    "- understund what lazy evaluation means and why it's an adwantage \n",
    "- understand ther different syntaxes for creating generaters\n"
   ],
   "metadata": {}
  },
  {
   "cell_type": "code",
   "execution_count": 3,
   "source": [
    "import numpy as np\n",
    "import timeit\n",
    "from datetime import datetime\n",
    "\n",
    "def n_say(s):\n",
    "    print(f\"Nico:    {s}\")\n",
    "def l_say(s):\n",
    "    print(f\"Larissa: {s}\")\n",
    "def p_say(s):\n",
    "    print(f\"Python:  {s}\")       \n",
    "    \n",
    "def isPrime(number):\n",
    "    \"\"\"Function to check if a number is prime. Not very sophisticated but working.\n",
    "\n",
    "    Args:\n",
    "        number (int): the number to check\n",
    "\n",
    "    Returns:\n",
    "        Bool: True when number is prime, False if not\n",
    "    \"\"\"\n",
    "    if number <2: return False\n",
    "    if number in [2,3,5,7]: return True\n",
    "    \n",
    "    for i in range(2,int(number**0.5)+1):\n",
    "        if number%i==0:\n",
    "            return False\n",
    "    return True    "
   ],
   "outputs": [],
   "metadata": {}
  },
  {
   "cell_type": "code",
   "execution_count": 4,
   "source": [
    "n_say(\"Hi, I'm Nico. \")\n",
    "l_say(\"Hi, I'm Larissa.\")\n",
    "p_say(\"I'm the sole voice of reason here. Don't trust the others!\")\n",
    "\n",
    "n_say(f\"Speaking of reason: Did you know 2021 is{' ' if isPrime(2021) else ' not '}a prime number?\")\n",
    "\n",
    "l_say(\"Dejavu.\")"
   ],
   "outputs": [
    {
     "output_type": "stream",
     "name": "stdout",
     "text": [
      "Nico:    Hi, I'm Nico. \n",
      "Larissa: Hi, I'm Larissa.\n",
      "Python:  I'm the sole voice of reason here. Don't trust the others!\n",
      "Nico:    Speaking of reason: Did you know 2021 is not a prime number?\n",
      "Larissa: Dejavu.\n"
     ]
    }
   ],
   "metadata": {}
  },
  {
   "cell_type": "markdown",
   "source": [
    "Lets just assume, you suddenly find yourself in dire need of some prime numbers. Then it's save to assume that\n",
    "1. There is a chance of about 99% you are currently doing a coding tutorial or a coding challenge.\n",
    "2. We can easily get those for you by using the prime function from above.\n",
    "\n",
    "So... lets use a list comprehension to generate a list full of prime numbers. And lets not be shy and directly get all primes up to 1000000 "
   ],
   "metadata": {}
  },
  {
   "cell_type": "code",
   "execution_count": 23,
   "source": [
    "start =datetime.now()\n",
    "prime_list=[i for i in range(1000000) if isPrime(i)]\n",
    "duration =round((datetime.now()-start).total_seconds(),2)\n",
    "\n",
    "p_say(f\"Done. result: ...{prime_list[-5:]}\")\n",
    "p_say(f\"Computation took {duration} s\")"
   ],
   "outputs": [
    {
     "output_type": "stream",
     "name": "stdout",
     "text": [
      "Python:  Done. result: ...[999953, 999959, 999961, 999979, 999983]\n",
      "Python:  Computation took 2.34 s\n"
     ]
    }
   ],
   "metadata": {}
  },
  {
   "cell_type": "markdown",
   "source": [
    "lets make a small change: use () instead of []"
   ],
   "metadata": {}
  },
  {
   "cell_type": "code",
   "execution_count": 6,
   "source": [
    "start =datetime.now()\n",
    "prime_list_gen=(i for i in range(1000000) if isPrime(i))\n",
    "duration =round((datetime.now()-start).total_seconds(),2)\n",
    "\n",
    "p_say(f\"Done. result: {prime_list_gen}\")\n",
    "p_say(f\"Computation took {duration} s\")"
   ],
   "outputs": [
    {
     "output_type": "stream",
     "name": "stdout",
     "text": [
      "Python:  Done. result: <generator object <genexpr> at 0x110987f20>\n",
      "Python:  Computation took 0.0 s\n"
     ]
    }
   ],
   "metadata": {}
  },
  {
   "cell_type": "markdown",
   "source": [
    "This is performed almost instantly. But why? What does it do now? \n",
    "\n",
    "The expression is now no longer a list comprehension, but a generator instead!"
   ],
   "metadata": {}
  },
  {
   "cell_type": "markdown",
   "source": [
    "\n",
    "**First the list comprehension**\n",
    "```python\n",
    "prime_list=[i for i in range(1000000) if isPrime(i)]\n",
    "````\n",
    "\n",
    "This tells python you want a list that contains all the primes in range(1000000). Python accepts the syntax **and** prepares the list. This is referred to as **eager** evaluation.\n",
    "\n",
    "On my machine this takes about 2.4 seconds. After this, the whole list is prepared and stored in memory.\n",
    "\n",
    "**Now the generator expression**\n",
    "```python\n",
    "prime_list_gen=(i for i in range(1000000) if isPrime(i))\n",
    "````\n",
    "\n",
    "This tells python you want a list that contains all the primes in range(1000000). Python accepts the syntax **and** .. thats it.\n",
    "\n",
    " On my machine this takes about 0.0000003 seconds. After this, no list is computed yet! \n",
    " \n",
    " Instead, python will only compute the results from the generator when you ask for that. This is what is called **lazy** evaluation.\n"
   ],
   "metadata": {}
  },
  {
   "cell_type": "code",
   "execution_count": 7,
   "source": [
    "#First lets get all the primes by using the generator:\n",
    "start =datetime.now()\n",
    "prime_list_gen=(i for i in range(1000000) if isPrime(i))\n",
    "prime_list=[i for i in prime_list_gen]\n",
    "duration =round((datetime.now()-start).total_seconds(),2)\n",
    "\n",
    "\n",
    "p_say(f\"{len(prime_list)} primes found. The last five are :{prime_list[-5:]}\")\n",
    "p_say(f\"Computation took {duration} s\")\n",
    "\n",
    "#timing this leads (on my machine) again to about 2.4s so we don't loose any time by doing this, great.\n",
    "#But the advantage comes in most prominent, if you don't actually need all elements from the list\n"
   ],
   "outputs": [
    {
     "output_type": "stream",
     "name": "stdout",
     "text": [
      "Python:  78498 primes found. The last five are :[999953, 999959, 999961, 999979, 999983]\n",
      "Python:  Computation took 2.31 s\n"
     ]
    }
   ],
   "metadata": {}
  },
  {
   "cell_type": "markdown",
   "source": [
    "Lets only get the first prime!\n",
    "\n",
    "For this we use the next() function. It takes any iterator and returns the next item.\n",
    "\n",
    "If you run the same cell again, you will get the next one, hence the functions name.\n"
   ],
   "metadata": {}
  },
  {
   "cell_type": "code",
   "execution_count": 24,
   "source": [
    "prime_list_gen=(i for i in range(1000000) if isPrime(i))\n",
    "\n",
    "next(prime_list_gen) # run this cell ceveral times"
   ],
   "outputs": [
    {
     "output_type": "execute_result",
     "data": {
      "text/plain": [
       "2"
      ]
     },
     "metadata": {},
     "execution_count": 24
    }
   ],
   "metadata": {}
  },
  {
   "cell_type": "markdown",
   "source": [
    "Let's get the first 10 primes only!"
   ],
   "metadata": {}
  },
  {
   "cell_type": "code",
   "execution_count": 25,
   "source": [
    "prime_list_first_10=[next(prime_list_gen) for i in range(10)] #subsequent calls of next within a list comprehension? easy!\n",
    "p_say(prime_list_first_10)"
   ],
   "outputs": [
    {
     "output_type": "stream",
     "name": "stdout",
     "text": [
      "Python:  [3, 5, 7, 11, 13, 17, 19, 23, 29, 31]\n"
     ]
    }
   ],
   "metadata": {}
  },
  {
   "cell_type": "markdown",
   "source": [
    "Wait its actually not the first ten primes(two is missing), its the next ten! That is because we used the same generator, that we already used in the previous cell"
   ],
   "metadata": {}
  },
  {
   "cell_type": "markdown",
   "source": [
    "## Execution count and timing: list comprehension\n",
    "Lets see if it works by sneaking in a counting function: _cntr() as it always returns True, the expression _cntr()&_isprime(i) is not changed. But buth functions are called with each iteration. "
   ],
   "metadata": {}
  },
  {
   "cell_type": "code",
   "execution_count": 10,
   "source": [
    "# Lets count the actual calls to\n",
    "count=0\n",
    "def _cntr():\n",
    "    global count\n",
    "    count += 1\n",
    "    return True\n",
    "\n",
    "def _time_prime_list():\n",
    "    global count\n",
    "    count=0\n",
    "    prime_list=[i for i in range(1000000) if _cntr()&isPrime(i)]\n",
    "    prime_list_first_10=prime_list[:10]\n",
    "    \n",
    "p_say(prime_list_first_10)\n",
    "p_say(f\"Required time:{round(np.mean(timeit.repeat(_time_prime_list,number=1,repeat=5)),4)}\")\n",
    "p_say(f\"{count} calls to _isprime()\")"
   ],
   "outputs": [
    {
     "output_type": "stream",
     "name": "stdout",
     "text": [
      "Python:  [3, 5, 7, 11, 13, 17, 19, 23, 29, 31]\n",
      "Python:  Required time:2.4284\n",
      "Python:  1000000 calls to _isprime()\n"
     ]
    }
   ],
   "metadata": {}
  },
  {
   "cell_type": "markdown",
   "source": [
    "## Execution count and timing: generator expression"
   ],
   "metadata": {}
  },
  {
   "cell_type": "code",
   "execution_count": 11,
   "source": [
    "def _time_prime_gen():\n",
    "    global count\n",
    "    count=0\n",
    "    prime_list_gen=(i for i in range(1000000) if _cntr()&isPrime(i))\n",
    "    prime_list_first_10=[next(prime_list_gen) for i in range(10)] \n",
    "\n",
    "p_say(prime_list_first_10)\n",
    "p_say(f\"Required time:{round(np.mean(timeit.repeat(_time_prime_gen,number=1,repeat=5)),4)}\")\n",
    "p_say(f\"{count} calls to _isprime()\")"
   ],
   "outputs": [
    {
     "output_type": "stream",
     "name": "stdout",
     "text": [
      "Python:  [3, 5, 7, 11, 13, 17, 19, 23, 29, 31]\n",
      "Python:  Required time:0.0\n",
      "Python:  30 calls to _isprime()\n"
     ]
    }
   ],
   "metadata": {}
  },
  {
   "cell_type": "markdown",
   "source": [
    "## Generators\n",
    "There are two main ways to define a generator. The fist follows the syntax of the list comprehensions, but instead of [] we use ()\n",
    "\n",
    "*List comprehension*\n",
    "```python\n",
    "newlist = [expression for item in iterable if condition]\n",
    "```\n",
    "*Generator*\n",
    "```python\n",
    "generator = (expression for item in iterable if condition)\n",
    "```\n",
    "The second follows the syntax of function definitions, but instead of return, we use yield\n",
    "\n",
    "*function*\n",
    "```python\n",
    "def complicatedFunction():\n",
    "    #Do some complicated stuff here\n",
    "    return something\n",
    "```\n",
    "\n",
    "*Generator*\n",
    "```python\n",
    "def complicatedGenerator():\n",
    "    #Do some complicated stuff here\n",
    "    yield something\n",
    "```\n",
    "\n",
    "Lets make an easy example:\n",
    "```python\n",
    "def easyGenerator():\n",
    "    #Do some complicated stuff here\n",
    "    for i in range(5):\n",
    "        yield i\n",
    "```\n",
    "\"yield\" is different in that return ends the function (so no expression inside the function after return is evaluated), and yield is more like a pause (so at the next next() call, evaluation starts at the line after the pass)\n",
    "\n",
    "\n",
    "A speciality of generators is, that they can only be iterated thorugh one time. Once, an (or all) element is visited, its basically spent. "
   ],
   "metadata": {}
  },
  {
   "cell_type": "markdown",
   "source": [
    "## Example: Prime Sextuples"
   ],
   "metadata": {}
  },
  {
   "cell_type": "markdown",
   "source": [
    "The gap between primes is sometimes very large, sometimes very small. If two primes are directly neigbours (i.e. the are only 2 apart) they are called primetwins.\n",
    "For example (3,5) or (227,229)\n",
    "\n",
    "There are triplets (2,3,5)(3,5,7) quadruplets and higher tupels. However, with the exception of these prime twins and the two shown triplets, we need to allow extra space betwen the primes because every third odd number is divisible by three and, hence, not a prime.\n",
    "\n",
    "Let's jump straight to sextuples, why not? They should follow the form:\n",
    "\n",
    " (p, p+4, p+6, p+10, p+12, p+16) [see here](https://en.wikipedia.org/wiki/Prime_quadruplet)\n",
    "\n",
    "As we dont know here how man primes we have to look through we can use a trick: we don't *have to* specifiy a maximum range for our generator!\n",
    "\n",
    "But be careful: when ever you write something like **\"while True:\"** make extra sure there is a way to get out of it ;)\n"
   ],
   "metadata": {}
  },
  {
   "cell_type": "code",
   "execution_count": 12,
   "source": [
    "#First lets turn the \"isPrime()\" function from above into a generator\n",
    "\n",
    "def primeGenerator():\n",
    "    yield 2 #manually yield 2 first, so that we can start with 3 and use an increment by 2\n",
    "    number=3\n",
    "    while True:\n",
    "        is_Prime=True    \n",
    "        for i in range(2,int(number**0.5)+1):\n",
    "            if number%i==0:\n",
    "                is_Prime=False\n",
    "                break\n",
    "        if is_Prime: yield number\n",
    "        number+=2\n",
    "        \n",
    "primeGen=primeGenerator()"
   ],
   "outputs": [],
   "metadata": {}
  },
  {
   "cell_type": "code",
   "execution_count": 13,
   "source": [
    "# Now lets see if it works\n",
    "for i in range(5):\n",
    "    p_say(next(primeGen))"
   ],
   "outputs": [
    {
     "output_type": "stream",
     "name": "stdout",
     "text": [
      "Python:  2\n",
      "Python:  3\n",
      "Python:  5\n",
      "Python:  7\n",
      "Python:  11\n"
     ]
    }
   ],
   "metadata": {}
  },
  {
   "cell_type": "markdown",
   "source": [
    "Looking good!\n",
    "Next, we develop a generator for prime sextuplets by going through 6 primes at a time to see if they qualify:"
   ],
   "metadata": {}
  },
  {
   "cell_type": "code",
   "execution_count": 14,
   "source": [
    "def primeSextupletsGenerator():\n",
    "    prime_gen=primeGenerator() #use the primeGenerator from above, as we know, there is no upper limit to the primes generated by this\n",
    "    \n",
    "    # Use a generator to run next(prime_gen) six times -> you can directly unpack a generator into variables!\n",
    "    p1,p2,p3,p4,p5,p6 = (next(prime_gen) for i in range(6)) \n",
    "    \n",
    "    while True:\n",
    "        # See formula, we have a sixtuplet if the first and last are 16 apart\n",
    "        if(p6-p1)==16:                                   \n",
    "            yield (p1,p2,p3,p4,p5,p6)        \n",
    "        #shifting the primes one back and adding the next one\n",
    "        p1,p2,p3,p4,p5,p6 = p2,p3,p4,p5,p6,next(prime_gen)\n",
    "        "
   ],
   "outputs": [],
   "metadata": {}
  },
  {
   "cell_type": "markdown",
   "source": [
    "Pretty neat and compact function i'd say. Python is a very nice language for this sort of task. Lets see if it works as expected:"
   ],
   "metadata": {}
  },
  {
   "cell_type": "code",
   "execution_count": 15,
   "source": [
    "primeGen=primeSextupletsGenerator()\n",
    "for i in range(5):\n",
    "    p_say(next(primeGen))"
   ],
   "outputs": [
    {
     "output_type": "stream",
     "name": "stdout",
     "text": [
      "Python:  (7, 11, 13, 17, 19, 23)\n",
      "Python:  (97, 101, 103, 107, 109, 113)\n",
      "Python:  (16057, 16061, 16063, 16067, 16069, 16073)\n",
      "Python:  (19417, 19421, 19423, 19427, 19429, 19433)\n",
      "Python:  (43777, 43781, 43783, 43787, 43789, 43793)\n"
     ]
    }
   ],
   "metadata": {}
  },
  {
   "cell_type": "code",
   "execution_count": null,
   "source": [],
   "outputs": [],
   "metadata": {}
  },
  {
   "cell_type": "markdown",
   "source": [
    "## Example: Back to the calendar"
   ],
   "metadata": {}
  },
  {
   "cell_type": "code",
   "execution_count": 16,
   "source": [
    "def is_leap_year(yr):\n",
    "    if yr%4!=0:\n",
    "        return False\n",
    "    elif yr%100!=0:\n",
    "        return True\n",
    "    elif yr%400!=0:\n",
    "        return False\n",
    "    else:\n",
    "        return True"
   ],
   "outputs": [],
   "metadata": {}
  },
  {
   "cell_type": "code",
   "execution_count": 17,
   "source": [
    "days=[\"Thu\",\"Fri\",\"Sat\",\"Sun\",\"Mon\",\"Tue\",\"Wed\"]\n",
    "months={\"Jan\":31,\"Feb\":28,\"Mar\":31,\"Apr\":30,\"May\":31,\"Jun\":30,\"Jul\":31,\"Aug\":31,\"Sep\":30,\"Oct\":31,\"Nov\":30,\"Dec\":31}\n",
    "years={yr : is_leap_year(yr) for yr in range(1970,2022)}\n",
    "\n",
    "def genFun():\n",
    "    i=0\n",
    "    for year,leap in years.items():\n",
    "        for month,max_days in months.items():\n",
    "            max_days_leap=max_days+1+(leap and (month==\"Feb\"))\n",
    "            for D in range(1,max_days_leap):\n",
    "                yield (i,D, month, year) \n",
    "                i+=1\n",
    "                \n",
    "\n",
    "fancy_cal=[f\"{days[(i)%7]}, {D}th of {M} {Y}\" for i,D,M,Y in genFun()]\n",
    "p_say(fancy_cal[-5:])"
   ],
   "outputs": [
    {
     "output_type": "stream",
     "name": "stdout",
     "text": [
      "Python:  ['Mon, 27th of Dec 2021', 'Tue, 28th of Dec 2021', 'Wed, 29th of Dec 2021', 'Thu, 30th of Dec 2021', 'Fri, 31th of Dec 2021']\n"
     ]
    }
   ],
   "metadata": {}
  },
  {
   "cell_type": "code",
   "execution_count": 18,
   "source": [
    "def genUnluckyDays():\n",
    "    i=0\n",
    "    for year,leap in years.items():\n",
    "        for month,max_days in months.items():\n",
    "            max_days_leap=max_days+1+(leap and (month==\"Feb\"))\n",
    "            for day in range(1,max_days_leap):\n",
    "                if (day==13) & (days[(i)%7]==\"Fri\"):\n",
    "                    yield f\"{days[(i)%7]}, {day}th of {month} {year}\"\n",
    "                i+=1\n",
    "                \n",
    "\n",
    "unlucky_cal=[s for s in genUnluckyDays()]\n",
    "bad_luck_days=genUnluckyDays()\n",
    "\n",
    "\n",
    "n_say(f\"Fun fact: did you know Black Sabbath debut album 'Black Sabbath' was released on {next(bad_luck_days)}?\")\n",
    "n_say(f\"Not-so-fun fact: did you know that friday the 13th is considerd unlucky because on friday 13th October 1307 most members of the Templar order were arrested and consequently tortured and murdered?\")"
   ],
   "outputs": [
    {
     "output_type": "stream",
     "name": "stdout",
     "text": [
      "Nico:    Fun fact: did you know Black Sabbath debut album 'Black Sabbath' was released on Fri, 13th of Feb 1970?\n",
      "Nico:    Not-so-fun fact: did you know that friday the 13th is considerd unlucky because on friday 13th October 1307 most members of the Templar order were arrested and consequently tortured and murdered?\n"
     ]
    }
   ],
   "metadata": {}
  },
  {
   "cell_type": "code",
   "execution_count": 19,
   "source": [
    "next(bad_luck_days) # Keep repeating for more days of doom and sorrow"
   ],
   "outputs": [
    {
     "output_type": "execute_result",
     "data": {
      "text/plain": [
       "'Fri, 13th of Mar 1970'"
      ]
     },
     "metadata": {},
     "execution_count": 19
    }
   ],
   "metadata": {}
  },
  {
   "cell_type": "markdown",
   "source": [],
   "metadata": {}
  }
 ],
 "metadata": {
  "orig_nbformat": 4,
  "language_info": {
   "name": "python",
   "version": "3.8.5",
   "mimetype": "text/x-python",
   "codemirror_mode": {
    "name": "ipython",
    "version": 3
   },
   "pygments_lexer": "ipython3",
   "nbconvert_exporter": "python",
   "file_extension": ".py"
  },
  "kernelspec": {
   "name": "python3",
   "display_name": "Python 3.8.5 64-bit ('nf_time-series': conda)"
  },
  "interpreter": {
   "hash": "6426a29efc353468667913ba996e9210bb11ea362e1c6cc99ca53c5c24a75753"
  }
 },
 "nbformat": 4,
 "nbformat_minor": 2
}