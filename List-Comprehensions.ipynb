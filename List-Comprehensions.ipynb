{
 "cells": [
  {
   "cell_type": "markdown",
   "source": [
    "# Revisiting... list comprehensions!"
   ],
   "metadata": {}
  },
  {
   "cell_type": "markdown",
   "source": [
    "## Learning goals for this Notebook\n",
    "At the end of this notebook you should:\n",
    "- have seen several ways to manipulate lists (and dictionaries) by facilitating list comprehensions\n",
    "- you should have a better understanding when / why to use them \n",
    "- have experience that beeing too eager to make thinks into comprehensions is actually a bad idea\n",
    "- should be mildy amused"
   ],
   "metadata": {}
  },
  {
   "cell_type": "markdown",
   "source": [
    "## How to use this\n",
    "This notebook is supposed to be *follow-along*. Feel free to change stuff and experiment as much as you want, though.\n",
    "Ideally, you should look at each cell and try to predict the result. Afterwards you can run it and see if you were right"
   ],
   "metadata": {}
  },
  {
   "cell_type": "markdown",
   "source": [
    "## Importing stuff\n",
    " We barely have to import anything here, this is just Python.\n",
    " We just define a few helper functions:"
   ],
   "metadata": {}
  },
  {
   "cell_type": "code",
   "execution_count": null,
   "source": [
    "import timeit\n",
    "import numpy as np\n",
    "\n",
    "def n_say(s):\n",
    "    print(f\"Nico:    {s}\")\n",
    "def l_say(s):\n",
    "    print(f\"Larissa: {s}\")\n",
    "def p_say(s):\n",
    "    print(f\"Python:  {s}\")        \n",
    "    \n",
    "def is_leap_year(yr):\n",
    "    if yr%4!=0:\n",
    "        return False\n",
    "    elif yr%100!=0:\n",
    "        return True\n",
    "    elif yr%400!=0:\n",
    "        return False\n",
    "    else:\n",
    "        return True"
   ],
   "outputs": [],
   "metadata": {}
  },
  {
   "cell_type": "code",
   "execution_count": null,
   "source": [
    "n_say(\"Hi, I'm Nico. \")\n",
    "l_say(\"Hi, I'm Larissa.\")\n",
    "p_say(\"I'm the sole voice of reason here. Don't trust the others!\")\n",
    "\n",
    "n_say(f\"Speaking of reason: Did you know 2021 is{' ' if is_leap_year(2021) else ' not '}a leap year?\")"
   ],
   "outputs": [],
   "metadata": {}
  },
  {
   "cell_type": "markdown",
   "source": [
    "## What is a list comprehensions?\n",
    "\n",
    "Basically its just a very compact syntax to generate lists (it works similar for dictionaries, and generators). \n",
    "\n",
    "The Syntax is:\n",
    "```python\n",
    "newlist = [expression for item in iterable if condition]\n",
    "```"
   ],
   "metadata": {}
  },
  {
   "cell_type": "code",
   "execution_count": null,
   "source": [
    "#First let's use a loop to generate an easy list\n",
    "easy_list_A=[]\n",
    "for i in range(5):\n",
    "    easy_list_A.append(i)\n",
    "    \n",
    "# And now do the same thing with a list comprehension\n",
    "easy_list_B=[i for i in range(5)]\n"
   ],
   "outputs": [],
   "metadata": {}
  },
  {
   "cell_type": "code",
   "execution_count": null,
   "source": [
    "l_say(\"Short and concise, thanks. That's it. Up to the next topic!\")\n",
    "n_say(\"Nope not quite. Let's play with it!\")"
   ],
   "outputs": [],
   "metadata": {}
  },
  {
   "cell_type": "markdown",
   "source": [
    "# Examples\n",
    "Let's use with some examples:\n",
    "- Example 1: most basic list comprehension\n",
    "- Example 2: list comprehension with conditional statement\n",
    "- Example 3: list comprehension with computed expression\n",
    "- Example 4: enumerate within lists comprehensions\n",
    "- Example 5: nested list comprehension\n",
    "- Example 6: nested list comprehension ctd.\n",
    "- Tip: how to think about nesting sequence\n",
    "- Example 7: building a calender. Escalating example.\n",
    "- Example 8: Timing\n"
   ],
   "metadata": {}
  },
  {
   "cell_type": "markdown",
   "source": [
    "### Example 1: most basic list comprehension"
   ],
   "metadata": {}
  },
  {
   "cell_type": "code",
   "execution_count": null,
   "source": [
    "#Example 1\n",
    "example_1=[i for i in range(5)]\n",
    "\n",
    "n_say(f\"Did you know: range(5) includes zero but not 5?\")\n",
    "p_say(example_1)\n",
    "l_say(\"yes. everyone who works with python should know that!\")"
   ],
   "outputs": [],
   "metadata": {}
  },
  {
   "cell_type": "markdown",
   "source": [
    "### Example 2: list comprehension with conditional statement"
   ],
   "metadata": {}
  },
  {
   "cell_type": "code",
   "execution_count": null,
   "source": [
    "#Example 2\n",
    "example_2=[i for i in range(1,10) if i%2!=0]\n",
    "\n",
    "n_say(f\"But did you know: every other number is not divisible by two!\")\n",
    "p_say(example_2)\n",
    "l_say(\"yes. literally everyone knows that.\")"
   ],
   "outputs": [],
   "metadata": {}
  },
  {
   "cell_type": "markdown",
   "source": [
    "### Example 3: list comprehension with computed expression\n"
   ],
   "metadata": {}
  },
  {
   "cell_type": "code",
   "execution_count": null,
   "source": [
    "#Example 3\n",
    "example_3=[2**i - i**2 for i in range(11)]\n",
    "\n",
    "n_say(f\"And that you can do computations within comprehensions?!\")\n",
    "p_say(example_3)\n",
    "l_say(\"yes. why woudn't you be able to?\")"
   ],
   "outputs": [],
   "metadata": {}
  },
  {
   "cell_type": "markdown",
   "source": [
    "### Example 4: enumerate within lists comprehensions"
   ],
   "metadata": {}
  },
  {
   "cell_type": "code",
   "execution_count": null,
   "source": [
    "#Example 4\n",
    "months=[\"Jan\",\"Feb\",\"Mar\",\"Apr\",\"May\",\"Jun\",\"Jul\",\"Aug\",\"Sep\",\"Oct\",\"Nov\",\"Dec\"]\n",
    "example_4=[(ind,month) for ind,month in enumerate(months)]\n",
    "\n",
    "n_say(f\"You can even access indices within comprehensions!\")\n",
    "p_say(example_4)\n",
    "print(\"\")\n",
    "l_say(\"yes, but, ... nevermind. Is that it?\")"
   ],
   "outputs": [],
   "metadata": {}
  },
  {
   "cell_type": "markdown",
   "source": [
    "### Example 5: nested list comprehension"
   ],
   "metadata": {}
  },
  {
   "cell_type": "code",
   "execution_count": null,
   "source": [
    "#Example 5\n",
    "example_5=[(i,c) for i in range(2) for c in \"AB\"]\n",
    "\n",
    "n_say(f\"You can do nested loops within a list comprehension! Let's see how many ways there are to combine 2 numbers with 2 letters!\")\n",
    "p_say(example_5)\n",
    "print(\"\")\n",
    "l_say(\"four ways. wow. not impressed\")\n",
    "n_say(\"Not even by the fact that you can directly iterate over the characters within a String? It was my idea to sneak that in.\")\n",
    "l_say(\"...\")\n"
   ],
   "outputs": [],
   "metadata": {}
  },
  {
   "cell_type": "markdown",
   "source": [
    "### Example 6a: nested list comprehension, nesting order"
   ],
   "metadata": {}
  },
  {
   "cell_type": "code",
   "execution_count": null,
   "source": [
    "#Example 6a\n",
    "months=[\"Jan\",\"Feb\",\"Mar\",\"Apr\",\"May\",\"Jun\",\"Jul\",\"Aug\",\"Sep\",\"Oct\",\"Nov\",\"Dec\"]\n",
    "years=[2020,2021]\n",
    "month_years=[f\"{month}-{year}\" for year in years for month in months]\n",
    "\n",
    "n_say(f\"We can use this to build something like a Calender, that's amazing. Right?!\")\n",
    "p_say(month_years[4:14])\n",
    "      \n",
    "print(\"\")\n",
    "l_say(\"Calender. wow. even less impressed. Just import calendar and....\")\n",
    "n_say(\"no.\")"
   ],
   "outputs": [],
   "metadata": {}
  },
  {
   "cell_type": "markdown",
   "source": [
    "### Example 6b  nested list comprehension, nesting order\n",
    "when working with nested list comprehensions, it's actually quite easy to be confused by the syntax.\n",
    "\n",
    "Like: which is right, considering you want to go through the year month wise?\n",
    "\n",
    "``` python\n",
    "month_years_A=[f\"{month}-{year}\" for year in years for month in months]\n",
    "month_years_B=[f\"{month}-{year}\" for month in months for year in years ]\n",
    "```"
   ],
   "metadata": {}
  },
  {
   "cell_type": "code",
   "execution_count": null,
   "source": [
    "#Let's find out\n",
    "month_years_A=[f\"{month}-{year}\" for year in years for month in months]\n",
    "month_years_B=[f\"{month}-{year}\" for month in months for year in years]\n",
    "\n",
    "#lets compare:\n",
    "month_year_comparison=[(f\"A: {right}, B: {wrong}\") for right,wrong in zip(month_years_A,month_years_B)]\n",
    "\n",
    "n_say(f\"Let's compare...\")\n",
    "p_say(month_year_comparison[:5])\n",
    "p_say(\"A is right!\")\n",
    "print(\"\")\n",
    "n_say(f\"See what we did there? Sneeked another comprehension in to showcase using zip as an iterator\")\n",
    "l_say(\"Not sneaky at all. It was WAY too obvious.\")\n",
    "n_say(\"Damn the crowd is harsh.\")\n",
    "n_say(\"Anyhow here a little tip on how to think about the nesting:\")"
   ],
   "outputs": [],
   "metadata": {}
  },
  {
   "cell_type": "markdown",
   "source": [
    "## Tip on nesting syntax\n",
    "If you are unsure about the nesting sequence, just think about it as nested for loops.\n",
    "\n",
    "```python\n",
    "for i in range(2):\n",
    "    for j in [\"A\",\"B\"]:\n",
    "        for k in [\"x\",\"y\"]:\n",
    "            ...\n",
    "```\n",
    "Then just remove colon and linebreak and you got the correct nesting order for the list comprehension:\n",
    "\n",
    "```python\n",
    "[...for i in range(2) for j in [\"A\",\"B\"] for k in [\"x\",\"y\"] ]\n",
    "```"
   ],
   "metadata": {}
  },
  {
   "cell_type": "code",
   "execution_count": null,
   "source": [
    "#once nested\n",
    "nested_list_A=[]\n",
    "for i in range(3):\n",
    "    for j in [\"A\",\"B\"]:\n",
    "        nested_list_A.append((i,j))\n",
    "\n",
    "nested_list_B=[(i,j) for i in range(3) for j in [\"A\",\"B\"]]\n",
    "\n",
    "p_say(nested_list_A)\n",
    "p_say(f\"Are both lists identical? {'yes.' if nested_list_A==nested_list_B else 'nope.'}\")\n",
    "\n"
   ],
   "outputs": [],
   "metadata": {}
  },
  {
   "cell_type": "code",
   "execution_count": null,
   "source": [
    "#twice nested\n",
    "nested_list_A2=[]\n",
    "for i in range(2):\n",
    "    for j in [\"A\",\"B\"]:\n",
    "        for k in [\"x\",\"y\"]:\n",
    "            nested_list_A2.append((i,j,k))\n",
    "\n",
    "nested_list_B2=[(i,j,k) for i in range(2) for j in [\"A\",\"B\"] for k in [\"x\",\"y\"]]\n",
    "p_say(nested_list_A2)\n",
    "p_say(f\"Are both lists identical? {'yes.' if nested_list_A2==nested_list_B2 else 'nope.'}\")\n"
   ],
   "outputs": [],
   "metadata": {}
  },
  {
   "cell_type": "markdown",
   "source": [
    "### Example 7: Keep improving a calender -- escalating example"
   ],
   "metadata": {}
  },
  {
   "cell_type": "code",
   "execution_count": null,
   "source": [
    "n_say(\"I know you loved the calendar! lets get back to that\")\n",
    "l_say(\"oh no...\")\n",
    "n_say(\"admit it, you were only annoyed that the calendar didn't have days right? we can fix that!\")\n",
    "l_say(\"no!!\")"
   ],
   "outputs": [],
   "metadata": {}
  },
  {
   "cell_type": "markdown",
   "source": [
    "### Example 7a: calendar, correct days per month"
   ],
   "metadata": {}
  },
  {
   "cell_type": "code",
   "execution_count": null,
   "source": [
    "months={\"Jan\":31,\"Feb\":28,\"Mar\":31,\"Apr\":30,\"May\":31,\"Jun\":30,\"Jul\":31,\"Aug\":31,\"Sep\":30,\"Oct\":31,\"Nov\":30,\"Dec\":31}\n",
    "years=[\"2021\"]\n",
    "\n",
    "improved_calendar=[(f\"{D}th of {month} {year}\") for year in years for month,max_days in months.items() for D in range(1,max_days+1)]\n",
    "\n",
    "p_say(improved_calendar[25:35])\n",
    "p_say(improved_calendar[55:65])\n",
    "print(\"\")\n",
    "n_say(\"Come on, this is pretty neat! It's a close-to-correct oneliner AND it shows you how to iterate over a dictionary to access both key and value at once!)\")\n",
    "l_say(\"Well this isn't... AS boring as the other stuff so far\")\n"
   ],
   "outputs": [],
   "metadata": {}
  },
  {
   "cell_type": "code",
   "execution_count": null,
   "source": [
    "l_say(\"I'm just happy the calendar stuff is over, tbh\")\n",
    "n_say(\"Yeah.... is it, though?\")\n",
    "print(\"\")\n",
    "n_say(\"Fun fact, did you know that both July (Julius Caesar) and August (Augustus Caesar) are named after roman emperors? \\n \\t As it was deemed important that both emperors get a 31day month, days where actually taken from poor february to boost their months.\")\n",
    "l_say(\"Wait why does this matter here?\")\n",
    "n_say(\"... Your absolutely right, good idea let's include weekdays!\")"
   ],
   "outputs": [],
   "metadata": {}
  },
  {
   "cell_type": "markdown",
   "source": [
    "### Example 7b:  calendar, adding weekdays"
   ],
   "metadata": {}
  },
  {
   "cell_type": "code",
   "execution_count": null,
   "source": [
    "days=[\"mon\",\"tue\",\"wed\",\"thur\",\"fri\",\"sat\",\"sun\"]\n",
    "months={\"Jan\":31,\"Feb\":28,\"Mar\":31,\"Apr\":30,\"May\":31,\"Jun\":30,\"Jul\":31,\"Aug\":31,\"Sep\":30,\"Oct\":31,\"Nov\":30,\"Dec\":31}\n",
    "years=[\"2018\"]\n",
    "\n",
    "calendar=[f\"{days[(ind)%7]},{D}th of {M} {Y}\" for ind,(D,M,Y) in enumerate([(D, month, year) for year in years for month,max_days in months.items() for D in range(1,max_days+1)])]\n",
    "\n",
    "p_say(calendar[27:32])\n",
    "p_say(calendar[57:62])\n",
    "print(\"\")\n",
    "n_say(\"Yeah....!\")\n",
    "l_say(\"Up to here, it was still sensible but now? The code is hard to read and close to un-debugable. This is just a bad exmple!\")\n",
    "n_say(\"...Yeah :( you ... might be right\")\n"
   ],
   "outputs": [],
   "metadata": {}
  },
  {
   "cell_type": "code",
   "execution_count": null,
   "source": [
    "n_say(\"...but... leapyears?\")\n",
    "n_say(\"After all, most, if not all of us lived through the leap year 2000?!\")\n",
    "l_say(\"2000 is devisible by 4 so it's a leap year. Big deal.\")\n",
    "n_say(\"Yeah! But, its devisible by hundred so it should be a skipped leap year.\")\n",
    "n_say(\"But, again, its devisible by 400 so its the very rare skipped-skipped leap year.\")\n",
    "l_say(\"Interesting! Is that so?\")\n",
    "print(\"\")\n",
    "p_say(f\"Year 2000 is{' ' if is_leap_year(2000) else ' not '}a leap year.\")"
   ],
   "outputs": [],
   "metadata": {}
  },
  {
   "cell_type": "markdown",
   "source": [
    "### Example 7c calendar, adjusting for leapyears "
   ],
   "metadata": {}
  },
  {
   "cell_type": "code",
   "execution_count": null,
   "source": [
    "days=[\"Thu\",\"Fri\",\"Sat\",\"Sun\",\"Mon\",\"Tue\",\"Wed\"]\n",
    "months={\"Jan\":31,\"Feb\":28,\"Mar\":31,\"Apr\":30,\"May\":31,\"Jun\":30,\"Jul\":31,\"Aug\":31,\"Sep\":30,\"Oct\":31,\"Nov\":30,\"Dec\":31}\n",
    "years={yr : is_leap_year(yr) for yr in range(1970,2022)}\n",
    "\n",
    "fancy_cal=[f\"{days[(ind)%7]}, {D}th of {M} {Y}\" for ind,(D,M,Y) in enumerate([(D, month, year) for year,leap in years.items() for month,max_days in months.items() for D in range(1,max_days+1+(leap and (month==\"Feb\")))])]\n",
    "\n",
    "\n",
    "p_say(fancy_cal[57:65])          \n",
    "p_say(fancy_cal[364*2+59:364*2+67])          \n",
    "p_say(fancy_cal[-121])          \n",
    "print(\"\")\n",
    "\n",
    "n_say(\"Okay, you are right..... this is way to much for one line.\")\n",
    "n_say(\"But maybe there is still something to learn from that?!\")\n",
    "l_say(\"Let me think... yeah.\")\n",
    "l_say(\"Well... Maybe... Maaaybeeee.\")\n",
    "l_say(\"How about: dont put a thousand §!$=%)& things in one line? Idiot!\")\n",
    "n_say(\"fine.\")\n",
    "\n"
   ],
   "outputs": [],
   "metadata": {}
  },
  {
   "cell_type": "markdown",
   "source": [
    "## Example 8 - Timing\n",
    "Why do we even use list comprehension?\n",
    "One thing is, that they are often very convenient because the offer a compact form of writing stuff. Hence, this helps to keep the code readable.\n",
    "This is, as demonstrated in the previous example, also the reason why list comprehensions should only be used to replayce \"easily understandable\" parts of a program.\n",
    "\n",
    "Another thing is, by telling Python what we want to have as a result, rather than giving explicit steps on how to get the result, we actually allow python to compute the list comprehensions more efficient, i.e. faster. \n",
    "\n",
    "To showcase this, lets look at the execution time to compute a rather long ist in different ways:"
   ],
   "metadata": {}
  },
  {
   "cell_type": "code",
   "execution_count": null,
   "source": [
    "def list_explicit():\n",
    "    first_list=[]\n",
    "    for i in range(10000000):\n",
    "        first_list.append(i)\n",
    "    return first_list\n",
    "\n",
    "def list_comprehension():\n",
    "    return [i for i in range(10000000)]\n",
    "\n",
    "p_say(f\"Duration with a loop and list.append(): {round(np.mean(timeit.repeat(list_explicit,number=3)),2)}s\")\n",
    "p_say(f\"Duration with a list comprehension:     {round(np.mean(timeit.repeat(list_comprehension,number=3)),2)}s\")\n",
    "p_say(f\"Are both lists identical? {'yes.' if list_explicit()==list_comprehension() else 'nope.'}\")\n"
   ],
   "outputs": [],
   "metadata": {}
  },
  {
   "cell_type": "code",
   "execution_count": null,
   "source": [
    "l_say(\"Okay that is actually usefull! Lets save about half a second!\")\n",
    "l_say(\"I'm start warming up to this. Next example, please!\")\n",
    "n_say(\"Nope. Not a chance, this was way too long already!\")\n",
    "print(\"\")\n",
    "p_say(\"no! dont shut me dow....\")\n"
   ],
   "outputs": [],
   "metadata": {}
  },
  {
   "cell_type": "markdown",
   "source": [
    "# Links and ressources\n",
    "[Random Calendar Facts](https://en.wikipedia.org/wiki/Gregorian_calendar)"
   ],
   "metadata": {}
  }
 ],
 "metadata": {
  "orig_nbformat": 4,
  "language_info": {
   "name": "python",
   "version": "3.8.5",
   "mimetype": "text/x-python",
   "codemirror_mode": {
    "name": "ipython",
    "version": 3
   },
   "pygments_lexer": "ipython3",
   "nbconvert_exporter": "python",
   "file_extension": ".py"
  },
  "kernelspec": {
   "name": "python3",
   "display_name": "Python 3.8.5 64-bit ('nf_time-series': conda)"
  },
  "interpreter": {
   "hash": "6426a29efc353468667913ba996e9210bb11ea362e1c6cc99ca53c5c24a75753"
  }
 },
 "nbformat": 4,
 "nbformat_minor": 2
}