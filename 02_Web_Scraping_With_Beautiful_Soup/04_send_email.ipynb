{
 "cells": [
  {
   "cell_type": "code",
   "execution_count": 11,
   "metadata": {},
   "outputs": [],
   "source": [
    "import smtplib\n",
    "import mimetypes\n",
    "from email.mime.multipart import MIMEMultipart\n",
    "from email import encoders\n",
    "from email.message import Message\n",
    "from email.mime.audio import MIMEAudio\n",
    "from email.mime.base import MIMEBase\n",
    "from email.mime.image import MIMEImage\n",
    "from email.mime.text import MIMEText\n"
   ]
  },
  {
   "cell_type": "markdown",
   "metadata": {},
   "source": [
    "You need to allow Gmail to allow less secure apps to access your account. If you have 2-step verification enabled on your account, then you'll need to create an app-specific password for less secure apps like this.\n",
    "[Link]('https://stackabuse.com/how-to-send-emails-with-gmail-using-python/')"
   ]
  },
  {
   "cell_type": "markdown",
   "metadata": {},
   "source": [
    "In Google Security \"Less Secure Apps\" is turned OFF. Enable 2-Step authentication and log in to the Google Gmail account. Search for \"App Password\", which is only available when 2FA turned on and under \"Select app\" specify access name and press \"Generate\" button. This produces a 16-digit passcode that is then used in place of the Gmail account password. "
   ]
  },
  {
   "cell_type": "code",
   "execution_count": 12,
   "metadata": {},
   "outputs": [
    {
     "name": "stdout",
     "output_type": "stream",
     "text": [
      "Email sent.\n"
     ]
    }
   ],
   "source": [
    "\n",
    "emailfrom = \"bot.boeswetter@gmail.com\"\n",
    "emailto = \"bot.boeswetter@gmail.com\"\n",
    "body = 'Hey, \\n\\n whats up?'\n",
    "\n",
    "fileToSend = \"eex.csv\"\n",
    "\n",
    "username = \"bot.boeswetter\"\n",
    "password = \"Mailbot3591:)\"\n",
    "password = \"xzmzyzbditwiceot\"\n",
    "#2FA activation and app-password required\n",
    "\n",
    "msg = MIMEMultipart()\n",
    "msg[\"From\"] = emailfrom\n",
    "msg[\"To\"] = emailto\n",
    "msg[\"Subject\"] = \"EEX_Data\"\n",
    "msg.preamble = \"EEX_Data_Script\"\n",
    "\n",
    "ctype, encoding = mimetypes.guess_type(fileToSend)\n",
    "if ctype is None or encoding is not None:\n",
    "    ctype = \"application/octet-stream\"\n",
    "\n",
    "maintype, subtype = ctype.split(\"/\", 1)\n",
    "\n",
    "if maintype == \"text\":\n",
    "    fp = open(fileToSend)\n",
    "    # Note: we should handle calculating the charset\n",
    "    attachment = MIMEText(fp.read(), _subtype=subtype)\n",
    "    fp.close()\n",
    "elif maintype == \"image\":\n",
    "    fp = open(fileToSend, \"rb\")\n",
    "    attachment = MIMEImage(fp.read(), _subtype=subtype)\n",
    "    fp.close()\n",
    "elif maintype == \"audio\":\n",
    "    fp = open(fileToSend, \"rb\")\n",
    "    attachment = MIMEAudio(fp.read(), _subtype=subtype)\n",
    "    fp.close()\n",
    "else:\n",
    "    fp = open(fileToSend, \"rb\")\n",
    "    attachment = MIMEBase(maintype, subtype)\n",
    "    attachment.set_payload(fp.read())\n",
    "    fp.close()\n",
    "    encoders.encode_base64(attachment)\n",
    "attachment.add_header(\"Content-Disposition\", \"attachment\", filename=fileToSend)\n",
    "msg.attach(attachment)\n",
    "\n",
    "try:   \n",
    "    server = smtplib.SMTP('smtp.gmail.com', 587)\n",
    "    server.ehlo()\n",
    "    server.starttls()\n",
    "\n",
    "    server.login(username,password)\n",
    "    server.sendmail(emailfrom, emailto, msg.as_string())\n",
    "    server.quit()\n",
    "\n",
    "    print('Email sent.')\n",
    "except:\n",
    "    print('Something went wrong.')\n",
    "\n",
    "\n"
   ]
  }
 ],
 "metadata": {
  "interpreter": {
   "hash": "46138c9347da4b49104be104a254ba3cb1780d476196ae440b28f0238a2174da"
  },
  "kernelspec": {
   "display_name": "Python 3.9.4 ('.venv': venv)",
   "language": "python",
   "name": "python3"
  },
  "language_info": {
   "codemirror_mode": {
    "name": "ipython",
    "version": 3
   },
   "file_extension": ".py",
   "mimetype": "text/x-python",
   "name": "python",
   "nbconvert_exporter": "python",
   "pygments_lexer": "ipython3",
   "version": "3.9.4"
  },
  "orig_nbformat": 4
 },
 "nbformat": 4,
 "nbformat_minor": 2
}
